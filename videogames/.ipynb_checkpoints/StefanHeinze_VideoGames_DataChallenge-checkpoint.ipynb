{
 "cells": [
  {
   "cell_type": "markdown",
   "metadata": {},
   "source": [
    "Video Game Sales Data Challenge\n",
    "\n",
    "<u>Goal</u>\n",
    "\n",
    "You work for a data science consulting company. A major video game production company has retained your firm to conduct market research into the video game industry. They've furnished you with video game sales data for the last thirty years (described below) and, as a first project, would like to know:\n",
    "\n",
    "1.\tWhat are some major differences between the North American, European, and Japanese video game markets?\n",
    "2.\tWhat video game genres are trending in each market?\n",
    "3.\tWhat features about a video game are most indicative of its success?\n",
    "\n",
    "This dataset contains a list of video games with sales greater than 100,000 copies.\n",
    "Rank - Ranking of overall sales\n",
    "Name - The games name\n",
    "Platform - Platform of the games release (i.e. PC,PS4, etc.)\n",
    "Year - Year of the game's release\n",
    "Genre - Genre of the game\n",
    "Publisher - Publisher of the game\n",
    "NA_Sales - Sales in North America (in millions)\n",
    "EU_Sales - Sales in Europe (in millions)\n",
    "JP_Sales - Sales in Japan (in millions)\n",
    "Other_Sales - Sales in the rest of the world (in millions)\n",
    "Global_Sales - Total worldwide sales.\n",
    "\n",
    "<u>General Approach</u>\n",
    "\n",
    "Questions 1 and 2 fall under the same category of general data exploration, while question 3 falls under the category of fitting a model to understand which features are most predicative of game success. We will start by performing some general EDA (exploratory data analysis), mainly grouping the data by region and year, genre, or platform to understand  underlying trends. Then we will use linear regression and random forest models to try to understand the best predictors of video game success."
   ]
  },
  {
   "cell_type": "markdown",
   "metadata": {},
   "source": [
    "# Import necessary libraries"
   ]
  },
  {
   "cell_type": "code",
   "execution_count": 282,
   "metadata": {},
   "outputs": [],
   "source": [
    "import numpy as np\n",
    "import pandas as pd\n",
    "import matplotlib\n",
    "import matplotlib.pyplot as plt\n",
    "import seaborn as sns\n",
    "from sklearn.model_selection import train_test_split\n",
    "from sklearn.linear_model import Lasso\n",
    "from sklearn.linear_model import Ridge\n",
    "from sklearn.ensemble import RandomForestRegressor\n",
    "\n",
    "%matplotlib inline"
   ]
  },
  {
   "cell_type": "markdown",
   "metadata": {},
   "source": [
    "# Import Data"
   ]
  },
  {
   "cell_type": "code",
   "execution_count": 352,
   "metadata": {},
   "outputs": [
    {
     "data": {
      "text/html": [
       "<div>\n",
       "<style scoped>\n",
       "    .dataframe tbody tr th:only-of-type {\n",
       "        vertical-align: middle;\n",
       "    }\n",
       "\n",
       "    .dataframe tbody tr th {\n",
       "        vertical-align: top;\n",
       "    }\n",
       "\n",
       "    .dataframe thead th {\n",
       "        text-align: right;\n",
       "    }\n",
       "</style>\n",
       "<table border=\"1\" class=\"dataframe\">\n",
       "  <thead>\n",
       "    <tr style=\"text-align: right;\">\n",
       "      <th></th>\n",
       "      <th>Rank</th>\n",
       "      <th>Name</th>\n",
       "      <th>Platform</th>\n",
       "      <th>Year</th>\n",
       "      <th>Genre</th>\n",
       "      <th>Publisher</th>\n",
       "      <th>NA_Sales</th>\n",
       "      <th>EU_Sales</th>\n",
       "      <th>JP_Sales</th>\n",
       "      <th>Other_Sales</th>\n",
       "      <th>Global_Sales</th>\n",
       "    </tr>\n",
       "  </thead>\n",
       "  <tbody>\n",
       "    <tr>\n",
       "      <th>0</th>\n",
       "      <td>1</td>\n",
       "      <td>Wii Sports</td>\n",
       "      <td>Wii</td>\n",
       "      <td>2006.0</td>\n",
       "      <td>Sports</td>\n",
       "      <td>Nintendo</td>\n",
       "      <td>41.49</td>\n",
       "      <td>29.02</td>\n",
       "      <td>3.77</td>\n",
       "      <td>8.46</td>\n",
       "      <td>82.74</td>\n",
       "    </tr>\n",
       "    <tr>\n",
       "      <th>1</th>\n",
       "      <td>2</td>\n",
       "      <td>Super Mario Bros.</td>\n",
       "      <td>NES</td>\n",
       "      <td>1985.0</td>\n",
       "      <td>Platform</td>\n",
       "      <td>Nintendo</td>\n",
       "      <td>29.08</td>\n",
       "      <td>3.58</td>\n",
       "      <td>6.81</td>\n",
       "      <td>0.77</td>\n",
       "      <td>40.24</td>\n",
       "    </tr>\n",
       "    <tr>\n",
       "      <th>2</th>\n",
       "      <td>3</td>\n",
       "      <td>Mario Kart Wii</td>\n",
       "      <td>Wii</td>\n",
       "      <td>2008.0</td>\n",
       "      <td>Racing</td>\n",
       "      <td>Nintendo</td>\n",
       "      <td>15.85</td>\n",
       "      <td>12.88</td>\n",
       "      <td>3.79</td>\n",
       "      <td>3.31</td>\n",
       "      <td>35.82</td>\n",
       "    </tr>\n",
       "    <tr>\n",
       "      <th>3</th>\n",
       "      <td>4</td>\n",
       "      <td>Wii Sports Resort</td>\n",
       "      <td>Wii</td>\n",
       "      <td>2009.0</td>\n",
       "      <td>Sports</td>\n",
       "      <td>Nintendo</td>\n",
       "      <td>15.75</td>\n",
       "      <td>11.01</td>\n",
       "      <td>3.28</td>\n",
       "      <td>2.96</td>\n",
       "      <td>33.00</td>\n",
       "    </tr>\n",
       "    <tr>\n",
       "      <th>4</th>\n",
       "      <td>5</td>\n",
       "      <td>Pokemon Red/Pokemon Blue</td>\n",
       "      <td>GB</td>\n",
       "      <td>1996.0</td>\n",
       "      <td>Role-Playing</td>\n",
       "      <td>Nintendo</td>\n",
       "      <td>11.27</td>\n",
       "      <td>8.89</td>\n",
       "      <td>10.22</td>\n",
       "      <td>1.00</td>\n",
       "      <td>31.37</td>\n",
       "    </tr>\n",
       "    <tr>\n",
       "      <th>5</th>\n",
       "      <td>6</td>\n",
       "      <td>Tetris</td>\n",
       "      <td>GB</td>\n",
       "      <td>1989.0</td>\n",
       "      <td>Puzzle</td>\n",
       "      <td>Nintendo</td>\n",
       "      <td>23.20</td>\n",
       "      <td>2.26</td>\n",
       "      <td>4.22</td>\n",
       "      <td>0.58</td>\n",
       "      <td>30.26</td>\n",
       "    </tr>\n",
       "    <tr>\n",
       "      <th>6</th>\n",
       "      <td>7</td>\n",
       "      <td>New Super Mario Bros.</td>\n",
       "      <td>DS</td>\n",
       "      <td>2006.0</td>\n",
       "      <td>Platform</td>\n",
       "      <td>Nintendo</td>\n",
       "      <td>11.38</td>\n",
       "      <td>9.23</td>\n",
       "      <td>6.50</td>\n",
       "      <td>2.90</td>\n",
       "      <td>30.01</td>\n",
       "    </tr>\n",
       "    <tr>\n",
       "      <th>7</th>\n",
       "      <td>8</td>\n",
       "      <td>Wii Play</td>\n",
       "      <td>Wii</td>\n",
       "      <td>2006.0</td>\n",
       "      <td>Misc</td>\n",
       "      <td>Nintendo</td>\n",
       "      <td>14.03</td>\n",
       "      <td>9.20</td>\n",
       "      <td>2.93</td>\n",
       "      <td>2.85</td>\n",
       "      <td>29.02</td>\n",
       "    </tr>\n",
       "    <tr>\n",
       "      <th>8</th>\n",
       "      <td>9</td>\n",
       "      <td>New Super Mario Bros. Wii</td>\n",
       "      <td>Wii</td>\n",
       "      <td>2009.0</td>\n",
       "      <td>Platform</td>\n",
       "      <td>Nintendo</td>\n",
       "      <td>14.59</td>\n",
       "      <td>7.06</td>\n",
       "      <td>4.70</td>\n",
       "      <td>2.26</td>\n",
       "      <td>28.62</td>\n",
       "    </tr>\n",
       "    <tr>\n",
       "      <th>9</th>\n",
       "      <td>10</td>\n",
       "      <td>Duck Hunt</td>\n",
       "      <td>NES</td>\n",
       "      <td>1984.0</td>\n",
       "      <td>Shooter</td>\n",
       "      <td>Nintendo</td>\n",
       "      <td>26.93</td>\n",
       "      <td>0.63</td>\n",
       "      <td>0.28</td>\n",
       "      <td>0.47</td>\n",
       "      <td>28.31</td>\n",
       "    </tr>\n",
       "  </tbody>\n",
       "</table>\n",
       "</div>"
      ],
      "text/plain": [
       "   Rank                       Name Platform    Year         Genre Publisher  \\\n",
       "0     1                 Wii Sports      Wii  2006.0        Sports  Nintendo   \n",
       "1     2          Super Mario Bros.      NES  1985.0      Platform  Nintendo   \n",
       "2     3             Mario Kart Wii      Wii  2008.0        Racing  Nintendo   \n",
       "3     4          Wii Sports Resort      Wii  2009.0        Sports  Nintendo   \n",
       "4     5   Pokemon Red/Pokemon Blue       GB  1996.0  Role-Playing  Nintendo   \n",
       "5     6                     Tetris       GB  1989.0        Puzzle  Nintendo   \n",
       "6     7      New Super Mario Bros.       DS  2006.0      Platform  Nintendo   \n",
       "7     8                   Wii Play      Wii  2006.0          Misc  Nintendo   \n",
       "8     9  New Super Mario Bros. Wii      Wii  2009.0      Platform  Nintendo   \n",
       "9    10                  Duck Hunt      NES  1984.0       Shooter  Nintendo   \n",
       "\n",
       "   NA_Sales  EU_Sales  JP_Sales  Other_Sales  Global_Sales  \n",
       "0     41.49     29.02      3.77         8.46         82.74  \n",
       "1     29.08      3.58      6.81         0.77         40.24  \n",
       "2     15.85     12.88      3.79         3.31         35.82  \n",
       "3     15.75     11.01      3.28         2.96         33.00  \n",
       "4     11.27      8.89     10.22         1.00         31.37  \n",
       "5     23.20      2.26      4.22         0.58         30.26  \n",
       "6     11.38      9.23      6.50         2.90         30.01  \n",
       "7     14.03      9.20      2.93         2.85         29.02  \n",
       "8     14.59      7.06      4.70         2.26         28.62  \n",
       "9     26.93      0.63      0.28         0.47         28.31  "
      ]
     },
     "execution_count": 352,
     "metadata": {},
     "output_type": "execute_result"
    }
   ],
   "source": [
    "data = pd.read_csv('vgsales.csv')\n",
    "data.head(10)"
   ]
  },
  {
   "cell_type": "markdown",
   "metadata": {},
   "source": [
    "What is the size of the dataframe?"
   ]
  },
  {
   "cell_type": "code",
   "execution_count": 353,
   "metadata": {},
   "outputs": [
    {
     "name": "stdout",
     "output_type": "stream",
     "text": [
      "The number of games in the dataset is 16598\n",
      "The number of columns is 11\n"
     ]
    }
   ],
   "source": [
    "print('The number of games in the dataset is {}\\nThe number of columns is {}'.format(data.shape[0], data.shape[1]))"
   ]
  },
  {
   "cell_type": "markdown",
   "metadata": {},
   "source": [
    "Are there any null values?"
   ]
  },
  {
   "cell_type": "code",
   "execution_count": 22,
   "metadata": {},
   "outputs": [
    {
     "name": "stdout",
     "output_type": "stream",
     "text": [
      "There are null values in the dataframe.\n"
     ]
    }
   ],
   "source": [
    "if data.isnull().values.any():\n",
    "    print('There are null values in the dataframe.')"
   ]
  },
  {
   "cell_type": "markdown",
   "metadata": {},
   "source": [
    "Which columns have null values?"
   ]
  },
  {
   "cell_type": "code",
   "execution_count": 25,
   "metadata": {},
   "outputs": [
    {
     "name": "stdout",
     "output_type": "stream",
     "text": [
      "The column \"Year\" has null values\n",
      "The column \"Publisher\" has null values\n"
     ]
    }
   ],
   "source": [
    "for column in data.columns:\n",
    "    if data[column].isnull().any():\n",
    "        print('The column \"{}\" has null values'.format(column))"
   ]
  },
  {
   "cell_type": "markdown",
   "metadata": {},
   "source": [
    "Grab lists of unique values for publishers, genres, and platforms"
   ]
  },
  {
   "cell_type": "code",
   "execution_count": 206,
   "metadata": {},
   "outputs": [],
   "source": [
    "publishers = data['Publisher'].unique()\n",
    "genres = data['Genre'].unique()\n",
    "platforms = data['Platform'].unique()"
   ]
  },
  {
   "cell_type": "markdown",
   "metadata": {},
   "source": [
    "# Differences between NA, EU, and JP markets"
   ]
  },
  {
   "cell_type": "markdown",
   "metadata": {},
   "source": [
    "## Size of market over all time"
   ]
  },
  {
   "cell_type": "markdown",
   "metadata": {},
   "source": [
    "What is the maximum global sales for any video game in the market?"
   ]
  },
  {
   "cell_type": "code",
   "execution_count": 207,
   "metadata": {},
   "outputs": [],
   "source": [
    "regions = ['NA_Sales', 'EU_Sales', 'JP_Sales']"
   ]
  },
  {
   "cell_type": "code",
   "execution_count": 208,
   "metadata": {},
   "outputs": [
    {
     "name": "stdout",
     "output_type": "stream",
     "text": [
      "The max sales for a single video game in any single market is 41.49\n"
     ]
    }
   ],
   "source": [
    "max_in_markets = []\n",
    "for region in regions:\n",
    "    max_in_markets.append(data[region].max())\n",
    "    \n",
    "print('The max sales for a single video game in any single market is {}'.format(max(max_in_markets)))"
   ]
  },
  {
   "cell_type": "markdown",
   "metadata": {},
   "source": [
    "In each market, let's look at the distribution of the number of games that make at least some amount of money. Generally, what we're doing is creating a dictionary for each market where the key is the market name and the value is a list of the number of games having sales greater than a certain amount."
   ]
  },
  {
   "cell_type": "code",
   "execution_count": 209,
   "metadata": {},
   "outputs": [],
   "source": [
    "sales_bins = range(1,42)\n",
    "\n",
    "sales_data = {}\n",
    "for region in regions:\n",
    "    sales_list = []\n",
    "    for sales_bin in sales_bins:\n",
    "        sales_list.append(data[data[region] > sales_bin].shape[0])\n",
    "    sales_data[region] = sales_list"
   ]
  },
  {
   "cell_type": "markdown",
   "metadata": {},
   "source": [
    "Let's visualize the sales data using bar plots "
   ]
  },
  {
   "cell_type": "code",
   "execution_count": 211,
   "metadata": {},
   "outputs": [
    {
     "data": {
      "image/png": "[encoded data removed]",
      "text/plain": [
       "<Figure size 1440x720 with 3 Axes>"
      ]
     },
     "metadata": {},
     "output_type": "display_data"
    }
   ],
   "source": [
    "sns.set()\n",
    "fig, axs = plt.subplots(1, 3, figsize=(20,10))\n",
    "colors = ['k', 'b', 'r']\n",
    "titles = ['NA', 'EU', 'JP']\n",
    "\n",
    "for index in range(3):\n",
    "    axs[index].bar(sales_bins, sales_data[regions[index]], color=colors[index])\n",
    "    axs[index].set_ylim(0,1000)\n",
    "    axs[index].set_title(titles[index], fontsize=24)\n",
    "fig.savefig('Videogame_sales_across_markets.png', dpi=300, bbox_inches='tight')"
   ]
  },
  {
   "cell_type": "markdown",
   "metadata": {},
   "source": [
    "Clearly, the NA market is bigger than the EU market, which is bigger than the JP market. Let's find out how big each market is in $"
   ]
  },
  {
   "cell_type": "code",
   "execution_count": 72,
   "metadata": {},
   "outputs": [
    {
     "name": "stdout",
     "output_type": "stream",
     "text": [
      "NA, EU, and JP sales over all games in the dataset are 4393, 2434, and 1291 millions of dollars, respectively.\n"
     ]
    }
   ],
   "source": [
    "NA_sales = data['NA_Sales'].sum()\n",
    "EU_sales = data['EU_Sales'].sum()\n",
    "JP_sales = data['JP_Sales'].sum()\n",
    "print('NA, EU, and JP sales over all games in the dataset are {:.0f}, {:.0f}, and {:.0f} millions of dollars, respectively.'.format(NA_sales, EU_sales, JP_sales))"
   ]
  },
  {
   "cell_type": "markdown",
   "metadata": {},
   "source": [
    "## Size of market over time"
   ]
  },
  {
   "cell_type": "markdown",
   "metadata": {},
   "source": [
    "Here we calculate the size ($) of the NA, EU, and JP markets over time."
   ]
  },
  {
   "cell_type": "code",
   "execution_count": 265,
   "metadata": {},
   "outputs": [],
   "source": [
    "data_copy = data.copy()\n",
    "data_copy.dropna(subset=['Year'], inplace=True)"
   ]
  },
  {
   "cell_type": "markdown",
   "metadata": {},
   "source": [
    "Calculate the min and max year for the games in the dataset, which we will eventually use to bin the years"
   ]
  },
  {
   "cell_type": "code",
   "execution_count": 266,
   "metadata": {},
   "outputs": [
    {
     "data": {
      "text/plain": [
       "(2020.0, 1980.0)"
      ]
     },
     "execution_count": 266,
     "metadata": {},
     "output_type": "execute_result"
    }
   ],
   "source": [
    "data_copy['Year'].max(), data_copy['Year'].min()"
   ]
  },
  {
   "cell_type": "markdown",
   "metadata": {},
   "source": [
    "Let's bin the years into groupings of 5 years"
   ]
  },
  {
   "cell_type": "code",
   "execution_count": 267,
   "metadata": {},
   "outputs": [
    {
     "data": {
      "text/plain": [
       "array([1980, 1985, 1990, 1995, 2000, 2005, 2010, 2015])"
      ]
     },
     "execution_count": 267,
     "metadata": {},
     "output_type": "execute_result"
    }
   ],
   "source": [
    "year_ranges = np.arange(1980,2020, 5)\n",
    "year_ranges"
   ]
  },
  {
   "cell_type": "markdown",
   "metadata": {},
   "source": [
    "Make a function to change year (type int) into year(type cat), which we will use to groupby over the dataframe"
   ]
  },
  {
   "cell_type": "code",
   "execution_count": 268,
   "metadata": {},
   "outputs": [],
   "source": [
    "def cat_year(row, year_ranges):\n",
    "    '''Function used to change year (int) into year (cat), with bins given by year_ranges'''\n",
    "    for year in year_ranges:\n",
    "        if row >= year and row < year+5:\n",
    "            return year"
   ]
  },
  {
   "cell_type": "markdown",
   "metadata": {},
   "source": [
    "Apply the function over the year column of the dataframe"
   ]
  },
  {
   "cell_type": "code",
   "execution_count": 269,
   "metadata": {},
   "outputs": [],
   "source": [
    "data_copy['Year'] = data_copy['Year'].apply(cat_year, year_ranges=year_ranges)"
   ]
  },
  {
   "cell_type": "markdown",
   "metadata": {},
   "source": [
    "Now we can groupby the year and plot the sum over each grouping of years."
   ]
  },
  {
   "cell_type": "code",
   "execution_count": 293,
   "metadata": {},
   "outputs": [
    {
     "data": {
      "image/png": "[encoded data removed]",
      "text/plain": [
       "<Figure size 720x720 with 1 Axes>"
      ]
     },
     "metadata": {
      "needs_background": "light"
     },
     "output_type": "display_data"
    }
   ],
   "source": [
    "data_copy.groupby('Year')[['NA_Sales', 'EU_Sales', 'JP_Sales']].sum().plot(figsize=(10,10), linewidth=3, fontsize=20)\n",
    "plt.xlabel('Year', fontsize=20)\n",
    "plt.ylabel('Sales (millions of $)', fontsize=20)\n",
    "plt.savefig('Videogame_sales_across_markets_over_time.png', dpi=300, bbox_inches='tight')"
   ]
  },
  {
   "cell_type": "markdown",
   "metadata": {},
   "source": [
    "We can calculate the percentage of total sales (globally) per region using the data."
   ]
  },
  {
   "cell_type": "code",
   "execution_count": null,
   "metadata": {},
   "outputs": [],
   "source": [
    "yearly_total_sales = data_copy.groupby('Year')[['NA_Sales', 'EU_Sales', 'JP_Sales', 'Other_Sales']].sum().sum(axis=1)"
   ]
  },
  {
   "cell_type": "code",
   "execution_count": 294,
   "metadata": {},
   "outputs": [
    {
     "data": {
      "text/html": [
       "<div>\n",
       "<style scoped>\n",
       "    .dataframe tbody tr th:only-of-type {\n",
       "        vertical-align: middle;\n",
       "    }\n",
       "\n",
       "    .dataframe tbody tr th {\n",
       "        vertical-align: top;\n",
       "    }\n",
       "\n",
       "    .dataframe thead th {\n",
       "        text-align: right;\n",
       "    }\n",
       "</style>\n",
       "<table border=\"1\" class=\"dataframe\">\n",
       "  <thead>\n",
       "    <tr style=\"text-align: right;\">\n",
       "      <th></th>\n",
       "      <th>NA_Sales</th>\n",
       "      <th>EU_Sales</th>\n",
       "      <th>JP_Sales</th>\n",
       "      <th>Other_Sales</th>\n",
       "    </tr>\n",
       "    <tr>\n",
       "      <th>Year</th>\n",
       "      <th></th>\n",
       "      <th></th>\n",
       "      <th></th>\n",
       "      <th></th>\n",
       "    </tr>\n",
       "  </thead>\n",
       "  <tbody>\n",
       "    <tr>\n",
       "      <th>1980.0</th>\n",
       "      <td>78.237473</td>\n",
       "      <td>5.017821</td>\n",
       "      <td>15.633517</td>\n",
       "      <td>1.111189</td>\n",
       "    </tr>\n",
       "    <tr>\n",
       "      <th>1985.0</th>\n",
       "      <td>53.005699</td>\n",
       "      <td>10.291786</td>\n",
       "      <td>34.328806</td>\n",
       "      <td>2.373709</td>\n",
       "    </tr>\n",
       "    <tr>\n",
       "      <th>1990.0</th>\n",
       "      <td>40.770454</td>\n",
       "      <td>15.133416</td>\n",
       "      <td>41.664605</td>\n",
       "      <td>2.431525</td>\n",
       "    </tr>\n",
       "    <tr>\n",
       "      <th>1995.0</th>\n",
       "      <td>46.270260</td>\n",
       "      <td>24.106730</td>\n",
       "      <td>25.551829</td>\n",
       "      <td>4.071180</td>\n",
       "    </tr>\n",
       "    <tr>\n",
       "      <th>2000.0</th>\n",
       "      <td>52.849139</td>\n",
       "      <td>27.485847</td>\n",
       "      <td>11.747382</td>\n",
       "      <td>7.917632</td>\n",
       "    </tr>\n",
       "    <tr>\n",
       "      <th>2005.0</th>\n",
       "      <td>51.365482</td>\n",
       "      <td>26.828363</td>\n",
       "      <td>10.574054</td>\n",
       "      <td>11.232101</td>\n",
       "    </tr>\n",
       "    <tr>\n",
       "      <th>2010.0</th>\n",
       "      <td>45.178448</td>\n",
       "      <td>32.700591</td>\n",
       "      <td>11.503797</td>\n",
       "      <td>10.617164</td>\n",
       "    </tr>\n",
       "    <tr>\n",
       "      <th>2015.0</th>\n",
       "      <td>37.436601</td>\n",
       "      <td>37.135271</td>\n",
       "      <td>14.162540</td>\n",
       "      <td>11.265589</td>\n",
       "    </tr>\n",
       "  </tbody>\n",
       "</table>\n",
       "</div>"
      ],
      "text/plain": [
       "         NA_Sales   EU_Sales   JP_Sales  Other_Sales\n",
       "Year                                                \n",
       "1980.0  78.237473   5.017821  15.633517     1.111189\n",
       "1985.0  53.005699  10.291786  34.328806     2.373709\n",
       "1990.0  40.770454  15.133416  41.664605     2.431525\n",
       "1995.0  46.270260  24.106730  25.551829     4.071180\n",
       "2000.0  52.849139  27.485847  11.747382     7.917632\n",
       "2005.0  51.365482  26.828363  10.574054    11.232101\n",
       "2010.0  45.178448  32.700591  11.503797    10.617164\n",
       "2015.0  37.436601  37.135271  14.162540    11.265589"
      ]
     },
     "execution_count": 294,
     "metadata": {},
     "output_type": "execute_result"
    }
   ],
   "source": [
    "data_copy.groupby('Year')[['NA_Sales', 'EU_Sales', 'JP_Sales', 'Other_Sales']].sum().divide(yearly_total_sales/100, axis='rows')"
   ]
  },
  {
   "cell_type": "markdown",
   "metadata": {},
   "source": [
    "## Which consoles are the most popular games on for each market?"
   ]
  },
  {
   "cell_type": "markdown",
   "metadata": {},
   "source": [
    "To do this, sort the data by the sales for each game in a market, choose the top 100 sellings games, grouby the platforms, and then count the number of games in each platform."
   ]
  },
  {
   "cell_type": "code",
   "execution_count": 295,
   "metadata": {},
   "outputs": [],
   "source": [
    "data_byna = data.sort_values(by='NA_Sales', ascending=False) #sort by na_sales\n",
    "data_byeu = data.sort_values(by='EU_Sales', ascending=False) #sort by eu_sales\n",
    "data_byjp = data.sort_values(by='JP_Sales', ascending=False) #sort by jp_sales\n",
    "\n",
    "na_top_platforms = data_byna.iloc[:100].groupby('Platform')['Platform'].count() # select top 100 games in na and count # of games per platform\n",
    "eu_top_platforms = data_byeu.iloc[:100].groupby('Platform')['Platform'].count() # same as above but for in eu\n",
    "jp_top_platforms = data_byjp.iloc[:100].groupby('Platform')['Platform'].count() # same as above but for in jp\n",
    "\n",
    "top_platforms = pd.DataFrame([na_top_platforms, eu_top_platforms, jp_top_platforms], index=['NA', 'EU', 'JP'])"
   ]
  },
  {
   "cell_type": "markdown",
   "metadata": {},
   "source": [
    "Let's visualize the data using a barplot. The height of each bar represents the fraction of the top 100 games by region that are on that specific console and the x-axis is the console."
   ]
  },
  {
   "cell_type": "code",
   "execution_count": 297,
   "metadata": {},
   "outputs": [
    {
     "data": {
      "image/png": "[encoded data removed]",
      "text/plain": [
       "<Figure size 720x720 with 1 Axes>"
      ]
     },
     "metadata": {
      "needs_background": "light"
     },
     "output_type": "display_data"
    }
   ],
   "source": [
    "top_platforms.T.plot.bar(figsize=(10,10), fontsize=20);\n",
    "plt.yticks(np.arange(0,24,2));\n",
    "plt.xlabel('Platform', fontsize=20)\n",
    "plt.ylabel('Number of Games', fontsize=20);\n",
    "plt.savefig('Consoles_across_markets.png', dpi=300, bbox_inches='tight')"
   ]
  },
  {
   "cell_type": "markdown",
   "metadata": {},
   "source": [
    "The highest selling games for NA tend to be on Xbox360 & Wii, EU tend to be on PS3 and Wii, and JP tend to be Nintendo DS and 3DS.\n",
    "\n",
    "This is interesting in the fact that some of these consoles are obsolete, so how does the platform usage change over time? Let's calculate the top platforms over time for the top 20 games in each bin of years (for the 3 markets)"
   ]
  },
  {
   "cell_type": "code",
   "execution_count": 228,
   "metadata": {},
   "outputs": [],
   "source": [
    "top_na_game_index = data_copy.groupby(['Year'])['NA_Sales'].nlargest(20).index.get_level_values(level=1) # get indices of top 20 games in na per bin of years\n",
    "top_na_year_values = data_copy.loc[top_na_game_index].groupby(['Year', 'Platform'])['Rank'].count().max(level=0) / 20 # for the most popular platform in a bin of years, get the fraction of games on that platform\n",
    "top_na_year_platforms_index = data_copy.loc[top_na_game_index].groupby(['Year', 'Platform'])['Rank'].count().reset_index().groupby('Year')['Rank'].idxmax() # get the indexes of the most popular platforms in each bin of years\n",
    "top_na_year_platforms = data_copy.loc[top_na_game_index].groupby(['Year', 'Platform'])['Rank'].count().reset_index().loc[top_na_year_platforms_index, 'Platform'] # get the most popular platform in a bin of years"
   ]
  },
  {
   "cell_type": "code",
   "execution_count": 229,
   "metadata": {},
   "outputs": [],
   "source": [
    "# same as above but for eu\n",
    "top_eu_game_index = data_copy.groupby(['Year'])['EU_Sales'].nlargest(20).index.get_level_values(level=1)\n",
    "top_eu_year_values = data_copy.loc[top_eu_game_index].groupby(['Year', 'Platform'])['Rank'].count().max(level=0) / 20\n",
    "top_eu_year_platforms_index = data_copy.loc[top_eu_game_index].groupby(['Year', 'Platform'])['Rank'].count().reset_index().groupby('Year')['Rank'].idxmax()\n",
    "top_eu_year_platforms = data_copy.loc[top_eu_game_index].groupby(['Year', 'Platform'])['Rank'].count().reset_index().loc[top_eu_year_platforms_index, 'Platform']"
   ]
  },
  {
   "cell_type": "code",
   "execution_count": 230,
   "metadata": {},
   "outputs": [],
   "source": [
    "# same as above but for jp\n",
    "top_jp_game_index = data_copy.groupby(['Year'])['JP_Sales'].nlargest(20).index.get_level_values(level=1)\n",
    "top_jp_year_values = data_copy.loc[top_jp_game_index].groupby(['Year', 'Platform'])['Rank'].count().max(level=0) / 20\n",
    "top_jp_year_platforms_index = data_copy.loc[top_jp_game_index].groupby(['Year', 'Platform'])['Rank'].count().reset_index().groupby('Year')['Rank'].idxmax()\n",
    "top_jp_year_platforms = data_copy.loc[top_jp_game_index].groupby(['Year', 'Platform'])['Rank'].count().reset_index().loc[top_jp_year_platforms_index, 'Platform']"
   ]
  },
  {
   "cell_type": "markdown",
   "metadata": {},
   "source": [
    "Let's visualize the results using a bar plot. We'll need to create a dictionary converting each platform to  a unique color in order to color our bars by platform)"
   ]
  },
  {
   "cell_type": "code",
   "execution_count": 231,
   "metadata": {},
   "outputs": [],
   "source": [
    "cm = plt.get_cmap('tab20b')\n",
    "color_dict = {}\n",
    "for index in range(len(platforms)):\n",
    "    color_dict[platforms[index]] = cm(index)"
   ]
  },
  {
   "cell_type": "code",
   "execution_count": 232,
   "metadata": {},
   "outputs": [
    {
     "data": {
      "image/png": "[encoded data removed]",
      "text/plain": [
       "<Figure size 720x360 with 3 Axes>"
      ]
     },
     "metadata": {},
     "output_type": "display_data"
    }
   ],
   "source": [
    "fig, axs = plt.subplots(1, 3, figsize=(10,5))\n",
    "axs[0].bar(year_ranges, top_na_year_values, width=2, color=list(map(color_dict.get, top_na_year_platforms)))\n",
    "axs[1].bar(year_ranges, top_eu_year_values, width=2, color=list(map(color_dict.get, top_eu_year_platforms)))\n",
    "axs[2].bar(year_ranges, top_jp_year_values, width=2, color=list(map(color_dict.get, top_jp_year_platforms)))\n",
    "axs[0].set_ylim(0,1)\n",
    "axs[1].set_ylim(0,1)\n",
    "axs[2].set_ylim(0,1)\n",
    "handles, labels = axs[2].get_legend_handles_labels()\n",
    "axs[2].legend(handles, labels, loc='upper right')\n",
    "axs[0].set_title('NA', fontsize=24)\n",
    "axs[1].set_title('EU', fontsize=24)\n",
    "axs[2].set_title('JP', fontsize=24);\n",
    "fig.savefig('Platforms_across_time.png', dpi=300, bbox_inches='tight')"
   ]
  },
  {
   "cell_type": "markdown",
   "metadata": {},
   "source": [
    "I can't figure out how to show the legend. The height of the bars show the fraction of the top 20 games in that bin of years which were released for that platform. The color shows the platform. Although the heights of the bars are different, one can see similar trends between NA and EU for which platforms are utilized most (recently PS4, Xbox 360, and Wii). However, Japan has tended towards mobile platforms (DS, 3DS) in the past 10-15 years. This can be seen in the print outs of the top platforms by year below."
   ]
  },
  {
   "cell_type": "code",
   "execution_count": 603,
   "metadata": {},
   "outputs": [
    {
     "data": {
      "text/plain": [
       "(0     2600\n",
       " 3      NES\n",
       " 4       GB\n",
       " 12      PS\n",
       " 17     PS2\n",
       " 21     Wii\n",
       " 27    X360\n",
       " 28     PS4\n",
       " Name: Platform, dtype: object, 0     2600\n",
       " 3      NES\n",
       " 6       PC\n",
       " 11      PS\n",
       " 16     PS2\n",
       " 20     Wii\n",
       " 23     PS3\n",
       " 28     PS4\n",
       " Name: Platform, dtype: object, 1      NES\n",
       " 3      NES\n",
       " 6     SNES\n",
       " 9       PS\n",
       " 16     PS2\n",
       " 17      DS\n",
       " 21     3DS\n",
       " 25     3DS\n",
       " Name: Platform, dtype: object)"
      ]
     },
     "execution_count": 603,
     "metadata": {},
     "output_type": "execute_result"
    }
   ],
   "source": [
    "top_na_year_platforms, top_eu_year_platforms, top_jp_year_platforms"
   ]
  },
  {
   "cell_type": "markdown",
   "metadata": {},
   "source": [
    "# Trending video game genres"
   ]
  },
  {
   "cell_type": "markdown",
   "metadata": {},
   "source": [
    "Here we do the same calculation as before but now for genres instead of platforms"
   ]
  },
  {
   "cell_type": "code",
   "execution_count": 233,
   "metadata": {},
   "outputs": [],
   "source": [
    "# this is the same as the previous code shown for the \"platforms\" section\n",
    "top_na_game_index = data_copy.groupby(['Year'])['NA_Sales'].nlargest(20).index.get_level_values(level=1)\n",
    "top_na_year_values = [ data_copy.loc[top_na_game_index].groupby(['Year', 'Genre'])['Rank'].count().loc[year].nlargest(3).values / 20 for year in year_ranges ]\n",
    "top_na_year_genres = [ list(data_copy.loc[top_na_game_index].groupby(['Year', 'Genre'])['Rank'].count().loc[year].nlargest(3).keys()) for year in year_ranges ]"
   ]
  },
  {
   "cell_type": "code",
   "execution_count": 234,
   "metadata": {},
   "outputs": [],
   "source": [
    "top_eu_game_index = data_copy.groupby(['Year'])['EU_Sales'].nlargest(20).index.get_level_values(level=1)\n",
    "top_eu_year_values = [ data_copy.loc[top_eu_game_index].groupby(['Year', 'Genre'])['Rank'].count().loc[year].nlargest(3).values / 20 for year in year_ranges ]\n",
    "top_eu_year_genres = [ list(data_copy.loc[top_eu_game_index].groupby(['Year', 'Genre'])['Rank'].count().loc[year].nlargest(3).keys()) for year in year_ranges ]"
   ]
  },
  {
   "cell_type": "code",
   "execution_count": 235,
   "metadata": {},
   "outputs": [],
   "source": [
    "top_jp_game_index = data_copy.groupby(['Year'])['JP_Sales'].nlargest(20).index.get_level_values(level=1)\n",
    "top_jp_year_values = [ data_copy.loc[top_jp_game_index].groupby(['Year', 'Genre'])['Rank'].count().loc[year].nlargest(3).values / 20 for year in year_ranges ]\n",
    "top_jp_year_genres = [ list(data_copy.loc[top_jp_game_index].groupby(['Year', 'Genre'])['Rank'].count().loc[year].nlargest(3).keys()) for year in year_ranges ]"
   ]
  },
  {
   "cell_type": "markdown",
   "metadata": {},
   "source": [
    "Let's visualize the results by plotting the top genres for each country throughout time"
   ]
  },
  {
   "cell_type": "code",
   "execution_count": 236,
   "metadata": {},
   "outputs": [],
   "source": [
    "cm = plt.get_cmap('tab20b')\n",
    "color_dict = {}\n",
    "for index in range(len(genres)):\n",
    "    color_dict[genres[index]] = cm(index)"
   ]
  },
  {
   "cell_type": "code",
   "execution_count": 261,
   "metadata": {},
   "outputs": [
    {
     "data": {
      "image/png": "[encoded data removed]",
      "text/plain": [
       "<Figure size 720x360 with 3 Axes>"
      ]
     },
     "metadata": {},
     "output_type": "display_data"
    }
   ],
   "source": [
    "fig, axs = plt.subplots(1, 3, figsize=(10,5))\n",
    "axs[0].bar(year_ranges, width=2, height=[ item[0] for item in top_na_year_values ], color=list(map(color_dict.get, [ item[0] for item in top_na_year_genres ])))\n",
    "axs[1].bar(year_ranges, width=2, height=[ item[0] for item in top_eu_year_values ], color=list(map(color_dict.get, [ item[0] for item in top_eu_year_genres ])))\n",
    "axs[2].bar(year_ranges, width=2, height=[ item[0] for item in top_jp_year_values ], color=list(map(color_dict.get, [ item[0] for item in top_jp_year_genres ])))\n",
    "axs[0].set_ylim(0,0.7)\n",
    "axs[1].set_ylim(0,0.7)\n",
    "axs[2].set_ylim(0,0.7)\n",
    "fig.savefig('Genres_across_time.png', dpi=300, bbox_inches='tight')"
   ]
  },
  {
   "cell_type": "markdown",
   "metadata": {},
   "source": [
    "Again, recently NA and EU have similar trends, with the top genre recently being Shooter (other popular are Platform and Action). In comparison, JP likes Role-Playing and Actions. This can be seen by the prinout of the top genres by year below."
   ]
  },
  {
   "cell_type": "code",
   "execution_count": 610,
   "metadata": {},
   "outputs": [
    {
     "data": {
      "text/plain": [
       "(['Shooter',\n",
       "  'Action',\n",
       "  'Platform',\n",
       "  'Platform',\n",
       "  'Platform',\n",
       "  'Shooter',\n",
       "  'Shooter',\n",
       "  'Shooter'],\n",
       " ['Shooter',\n",
       "  'Action',\n",
       "  'Platform',\n",
       "  'Action',\n",
       "  'Action',\n",
       "  'Sports',\n",
       "  'Shooter',\n",
       "  'Shooter'],\n",
       " ['Platform',\n",
       "  'Platform',\n",
       "  'Role-Playing',\n",
       "  'Role-Playing',\n",
       "  'Role-Playing',\n",
       "  'Role-Playing',\n",
       "  'Role-Playing',\n",
       "  'Action'])"
      ]
     },
     "execution_count": 610,
     "metadata": {},
     "output_type": "execute_result"
    }
   ],
   "source": [
    "[ item[0] for item in top_na_year_genres ], [ item[0] for item in top_eu_year_genres ], [ item[0] for item in top_jp_year_genres ]"
   ]
  },
  {
   "cell_type": "markdown",
   "metadata": {},
   "source": [
    "# What features about a video game are most indicative about its success?"
   ]
  },
  {
   "cell_type": "markdown",
   "metadata": {},
   "source": [
    "## Data wrangling"
   ]
  },
  {
   "cell_type": "markdown",
   "metadata": {},
   "source": [
    "Let's take a look at the dataframe again to see which columns could potentially be predictors"
   ]
  },
  {
   "cell_type": "code",
   "execution_count": 238,
   "metadata": {},
   "outputs": [
    {
     "data": {
      "text/html": [
       "<div>\n",
       "<style scoped>\n",
       "    .dataframe tbody tr th:only-of-type {\n",
       "        vertical-align: middle;\n",
       "    }\n",
       "\n",
       "    .dataframe tbody tr th {\n",
       "        vertical-align: top;\n",
       "    }\n",
       "\n",
       "    .dataframe thead th {\n",
       "        text-align: right;\n",
       "    }\n",
       "</style>\n",
       "<table border=\"1\" class=\"dataframe\">\n",
       "  <thead>\n",
       "    <tr style=\"text-align: right;\">\n",
       "      <th></th>\n",
       "      <th>Rank</th>\n",
       "      <th>Name</th>\n",
       "      <th>Platform</th>\n",
       "      <th>Year</th>\n",
       "      <th>Genre</th>\n",
       "      <th>Publisher</th>\n",
       "      <th>NA_Sales</th>\n",
       "      <th>EU_Sales</th>\n",
       "      <th>JP_Sales</th>\n",
       "      <th>Other_Sales</th>\n",
       "      <th>Global_Sales</th>\n",
       "    </tr>\n",
       "  </thead>\n",
       "  <tbody>\n",
       "    <tr>\n",
       "      <th>0</th>\n",
       "      <td>1</td>\n",
       "      <td>Wii Sports</td>\n",
       "      <td>Wii</td>\n",
       "      <td>2006.0</td>\n",
       "      <td>Sports</td>\n",
       "      <td>Nintendo</td>\n",
       "      <td>41.49</td>\n",
       "      <td>29.02</td>\n",
       "      <td>3.77</td>\n",
       "      <td>8.46</td>\n",
       "      <td>82.74</td>\n",
       "    </tr>\n",
       "    <tr>\n",
       "      <th>1</th>\n",
       "      <td>2</td>\n",
       "      <td>Super Mario Bros.</td>\n",
       "      <td>NES</td>\n",
       "      <td>1985.0</td>\n",
       "      <td>Platform</td>\n",
       "      <td>Nintendo</td>\n",
       "      <td>29.08</td>\n",
       "      <td>3.58</td>\n",
       "      <td>6.81</td>\n",
       "      <td>0.77</td>\n",
       "      <td>40.24</td>\n",
       "    </tr>\n",
       "    <tr>\n",
       "      <th>2</th>\n",
       "      <td>3</td>\n",
       "      <td>Mario Kart Wii</td>\n",
       "      <td>Wii</td>\n",
       "      <td>2008.0</td>\n",
       "      <td>Racing</td>\n",
       "      <td>Nintendo</td>\n",
       "      <td>15.85</td>\n",
       "      <td>12.88</td>\n",
       "      <td>3.79</td>\n",
       "      <td>3.31</td>\n",
       "      <td>35.82</td>\n",
       "    </tr>\n",
       "    <tr>\n",
       "      <th>3</th>\n",
       "      <td>4</td>\n",
       "      <td>Wii Sports Resort</td>\n",
       "      <td>Wii</td>\n",
       "      <td>2009.0</td>\n",
       "      <td>Sports</td>\n",
       "      <td>Nintendo</td>\n",
       "      <td>15.75</td>\n",
       "      <td>11.01</td>\n",
       "      <td>3.28</td>\n",
       "      <td>2.96</td>\n",
       "      <td>33.00</td>\n",
       "    </tr>\n",
       "    <tr>\n",
       "      <th>4</th>\n",
       "      <td>5</td>\n",
       "      <td>Pokemon Red/Pokemon Blue</td>\n",
       "      <td>GB</td>\n",
       "      <td>1996.0</td>\n",
       "      <td>Role-Playing</td>\n",
       "      <td>Nintendo</td>\n",
       "      <td>11.27</td>\n",
       "      <td>8.89</td>\n",
       "      <td>10.22</td>\n",
       "      <td>1.00</td>\n",
       "      <td>31.37</td>\n",
       "    </tr>\n",
       "  </tbody>\n",
       "</table>\n",
       "</div>"
      ],
      "text/plain": [
       "   Rank                      Name Platform    Year         Genre Publisher  \\\n",
       "0     1                Wii Sports      Wii  2006.0        Sports  Nintendo   \n",
       "1     2         Super Mario Bros.      NES  1985.0      Platform  Nintendo   \n",
       "2     3            Mario Kart Wii      Wii  2008.0        Racing  Nintendo   \n",
       "3     4         Wii Sports Resort      Wii  2009.0        Sports  Nintendo   \n",
       "4     5  Pokemon Red/Pokemon Blue       GB  1996.0  Role-Playing  Nintendo   \n",
       "\n",
       "   NA_Sales  EU_Sales  JP_Sales  Other_Sales  Global_Sales  \n",
       "0     41.49     29.02      3.77         8.46         82.74  \n",
       "1     29.08      3.58      6.81         0.77         40.24  \n",
       "2     15.85     12.88      3.79         3.31         35.82  \n",
       "3     15.75     11.01      3.28         2.96         33.00  \n",
       "4     11.27      8.89     10.22         1.00         31.37  "
      ]
     },
     "execution_count": 238,
     "metadata": {},
     "output_type": "execute_result"
    }
   ],
   "source": [
    "data.head()"
   ]
  },
  {
   "cell_type": "markdown",
   "metadata": {},
   "source": [
    "Let's predict global_sales using platform, year, genre, and publisher data using a linear regression.\n",
    "    - Platform is categorical and will need to be OHE\n",
    "    - Year is ordinal and can be normalized by dividing by the max (in order to maintain ratios between years) \n",
    "    - Genre is categorical and will need to be OHE\n",
    "    - Publisher is categorical and will need to be OHE\n",
    "    \n",
    "Notably we don't want to use NAsales, EUsales, or JPsales as predictors, since they are obviously TOO correlated with global sales."
   ]
  },
  {
   "cell_type": "markdown",
   "metadata": {},
   "source": [
    "Let's make a copy of the dataframe and drop any missing indices which have missing values from the features we're using and OHE platforms, genres, and publishers"
   ]
  },
  {
   "cell_type": "code",
   "execution_count": 339,
   "metadata": {},
   "outputs": [],
   "source": [
    "data_copy = data.dropna(subset=['Year', 'Publisher', 'Platform', 'Genre'], axis=0)"
   ]
  },
  {
   "cell_type": "code",
   "execution_count": 340,
   "metadata": {},
   "outputs": [],
   "source": [
    "platforms_encoded = pd.get_dummies(data_copy['Platform'].values)\n",
    "platforms_encoded = platforms_encoded.reset_index().drop(labels='index', axis=1);"
   ]
  },
  {
   "cell_type": "code",
   "execution_count": 341,
   "metadata": {},
   "outputs": [],
   "source": [
    "genres_encoded = pd.get_dummies(data_copy['Genre'].values) \n",
    "genres_encoded = genres_encoded.reset_index().drop(labels='index', axis=1);"
   ]
  },
  {
   "cell_type": "code",
   "execution_count": 342,
   "metadata": {},
   "outputs": [],
   "source": [
    "publishers_encoded = pd.get_dummies(data_copy['Publisher'].values)\n",
    "publishers_encoded = publishers_encoded.reset_index().drop(labels='index', axis=1);"
   ]
  },
  {
   "cell_type": "markdown",
   "metadata": {},
   "source": [
    "We don't want to OHE years, but instead lets \"normalize\" by dividing by the max year in dataframe. This allows us to keep ratios between years."
   ]
  },
  {
   "cell_type": "code",
   "execution_count": 343,
   "metadata": {},
   "outputs": [],
   "source": [
    "year = data_copy['Year']/2020\n",
    "year = year.reset_index().drop(labels='index', axis=1);"
   ]
  },
  {
   "cell_type": "markdown",
   "metadata": {},
   "source": [
    "Now we make the dataframe from which we will train and test our model."
   ]
  },
  {
   "cell_type": "code",
   "execution_count": 344,
   "metadata": {},
   "outputs": [],
   "source": [
    "model_data = pd.concat([platforms_encoded, genres_encoded, publishers_encoded, year], axis=1)\n",
    "target = data_copy['Global_Sales']"
   ]
  },
  {
   "cell_type": "code",
   "execution_count": 345,
   "metadata": {},
   "outputs": [],
   "source": [
    "X_train, X_test, y_train, y_test = train_test_split(model_data, target, test_size=0.30, random_state=42)"
   ]
  },
  {
   "cell_type": "code",
   "execution_count": 246,
   "metadata": {},
   "outputs": [
    {
     "data": {
      "text/plain": [
       "(11403, 620)"
      ]
     },
     "execution_count": 246,
     "metadata": {},
     "output_type": "execute_result"
    }
   ],
   "source": [
    "X_train.shape"
   ]
  },
  {
   "cell_type": "markdown",
   "metadata": {},
   "source": [
    "## LinearRegression (LASSO)"
   ]
  },
  {
   "cell_type": "markdown",
   "metadata": {},
   "source": [
    "We'll start by trying LinearRegression with L1 regularization in order to try to remove less important features (since we have so many)"
   ]
  },
  {
   "cell_type": "code",
   "execution_count": 247,
   "metadata": {},
   "outputs": [
    {
     "name": "stderr",
     "output_type": "stream",
     "text": [
      "/Users/stefanheinze/anaconda3/envs/insight/lib/python3.7/site-packages/sklearn/linear_model/coordinate_descent.py:492: ConvergenceWarning: Objective did not converge. You might want to increase the number of iterations. Fitting data with very small alpha may cause precision problems.\n",
      "  ConvergenceWarning)\n"
     ]
    },
    {
     "data": {
      "text/plain": [
       "Lasso(alpha=1e-05, copy_X=True, fit_intercept=True, max_iter=1000,\n",
       "   normalize=False, positive=False, precompute=False, random_state=None,\n",
       "   selection='cyclic', tol=0.0001, warm_start=False)"
      ]
     },
     "execution_count": 247,
     "metadata": {},
     "output_type": "execute_result"
    }
   ],
   "source": [
    "clf = Lasso(max_iter = 1000, alpha=0.00001)\n",
    "clf.fit(X_train, y_train)"
   ]
  },
  {
   "cell_type": "code",
   "execution_count": 21,
   "metadata": {},
   "outputs": [
    {
     "data": {
      "text/plain": [
       "array([0.32047315, 0.8367124 , 1.10240609, ..., 0.97520253, 0.08320293,\n",
       "       0.18817087])"
      ]
     },
     "execution_count": 21,
     "metadata": {},
     "output_type": "execute_result"
    }
   ],
   "source": [
    "clf.predict(X_train)"
   ]
  },
  {
   "cell_type": "code",
   "execution_count": 22,
   "metadata": {},
   "outputs": [
    {
     "data": {
      "text/plain": [
       "0.09535900839950195"
      ]
     },
     "execution_count": 22,
     "metadata": {},
     "output_type": "execute_result"
    }
   ],
   "source": [
    "clf.score(X_test, y_test)"
   ]
  },
  {
   "cell_type": "markdown",
   "metadata": {},
   "source": [
    "The R^2 value is 0.09... not very good. Let's see if we can improve by modifying the L1 regularization term."
   ]
  },
  {
   "cell_type": "code",
   "execution_count": 25,
   "metadata": {},
   "outputs": [
    {
     "name": "stderr",
     "output_type": "stream",
     "text": [
      "/Users/stefanheinze/anaconda3/envs/insight/lib/python3.7/site-packages/sklearn/linear_model/coordinate_descent.py:492: ConvergenceWarning: Objective did not converge. You might want to increase the number of iterations. Fitting data with very small alpha may cause precision problems.\n",
      "  ConvergenceWarning)\n"
     ]
    },
    {
     "name": "stdout",
     "output_type": "stream",
     "text": [
      "The R2 value of the linear regression at alpha = 1e-05 is 0.10.\n",
      "The R2 value of the linear regression at alpha = 0.0001 is 0.09.\n",
      "The R2 value of the linear regression at alpha = 0.001 is 0.09.\n",
      "The R2 value of the linear regression at alpha = 0.01 is 0.07.\n",
      "The R2 value of the linear regression at alpha = 0.1 is -0.00.\n",
      "The R2 value of the linear regression at alpha = 1 is -0.00.\n"
     ]
    }
   ],
   "source": [
    "alphas = [1e-5, 1e-4, 1e-3, 1e-2, 1e-1, 1] # regularization terms\n",
    "for alpha in alphas:\n",
    "    clf = Lasso(max_iter = 1000, alpha=alpha)\n",
    "    clf.fit(X_train, y_train)\n",
    "    print('The R2 value of the linear regression at alpha = {} is {:.2f}.'.format(alpha, clf.score(X_test, y_test)))"
   ]
  },
  {
   "cell_type": "markdown",
   "metadata": {},
   "source": [
    "The best R^2 value is achieved for low regularization (i.e. we are not overfitting our data). Let's fit the LASSO regression again with this value and see what the top predictors of success are."
   ]
  },
  {
   "cell_type": "code",
   "execution_count": 248,
   "metadata": {},
   "outputs": [
    {
     "data": {
      "text/plain": [
       "Lasso(alpha=1e-05, copy_X=True, fit_intercept=True, max_iter=5000,\n",
       "   normalize=False, positive=False, precompute=False, random_state=None,\n",
       "   selection='cyclic', tol=0.0001, warm_start=False)"
      ]
     },
     "execution_count": 248,
     "metadata": {},
     "output_type": "execute_result"
    }
   ],
   "source": [
    "clf = Lasso(max_iter=5000, alpha=1e-5)\n",
    "clf.fit(X_train, y_train)"
   ]
  },
  {
   "cell_type": "code",
   "execution_count": 249,
   "metadata": {},
   "outputs": [
    {
     "data": {
      "text/plain": [
       "0.09536290644379342"
      ]
     },
     "execution_count": 249,
     "metadata": {},
     "output_type": "execute_result"
    }
   ],
   "source": [
    "clf.score(X_test, y_test)"
   ]
  },
  {
   "cell_type": "markdown",
   "metadata": {},
   "source": [
    "In the following cell, we show the top 20 predictors of success"
   ]
  },
  {
   "cell_type": "code",
   "execution_count": 250,
   "metadata": {},
   "outputs": [
    {
     "data": {
      "text/plain": [
       "Index(['Red Orb', 'Nintendo', 'RedOctane', 'UEP Systems',\n",
       "       'Arena Entertainment', 'Westwood Studios',\n",
       "       'Sony Computer Entertainment Europe', 'GB', 'Bethesda Softworks',\n",
       "       'Microsoft Game Studios', 'Hello Games', 'NES', 'Valve Software',\n",
       "       'Imagic', 'Take-Two Interactive', 'LucasArts', 'Hasbro Interactive',\n",
       "       'mixi, Inc', 'PS4', 'Maxis'],\n",
       "      dtype='object')"
      ]
     },
     "execution_count": 250,
     "metadata": {},
     "output_type": "execute_result"
    }
   ],
   "source": [
    "top_predictors = (-clf.coef_).argsort()[:20] # sort by coefficient size, largest first\n",
    "X_train.iloc[:, top_predictors].columns"
   ]
  },
  {
   "cell_type": "markdown",
   "metadata": {},
   "source": [
    "Most of these appear to be publishers, but let's make sure. A few seem to be platforms."
   ]
  },
  {
   "cell_type": "code",
   "execution_count": 134,
   "metadata": {},
   "outputs": [
    {
     "name": "stdout",
     "output_type": "stream",
     "text": [
      "GB\n",
      "NES\n",
      "PS4\n"
     ]
    }
   ],
   "source": [
    "for name in X_train.iloc[:, top_predictors].columns:\n",
    "    if name not in publishers:\n",
    "        print(name)"
   ]
  },
  {
   "cell_type": "code",
   "execution_count": 251,
   "metadata": {},
   "outputs": [
    {
     "data": {
      "image/png": "[encoded data removed]",
      "text/plain": [
       "<Figure size 432x288 with 1 Axes>"
      ]
     },
     "metadata": {},
     "output_type": "display_data"
    }
   ],
   "source": [
    "plt.bar(range(20), height = clf.coef_[top_predictors], tick_label=X_train.iloc[:, top_predictors].columns)\n",
    "plt.xticks(rotation=90)\n",
    "plt.title('Feature Importance (LR Lasso)');\n",
    "plt.savefig('LASSO_FeatureImportance.png', dpi=300, bbox_inches='tight')"
   ]
  },
  {
   "cell_type": "markdown",
   "metadata": {},
   "source": [
    "The results show that the top predictors of success are generally the publishers of the games, though the console is also important."
   ]
  },
  {
   "cell_type": "markdown",
   "metadata": {},
   "source": [
    "## LinearRegression (Ridge)"
   ]
  },
  {
   "cell_type": "markdown",
   "metadata": {},
   "source": [
    "Here we try Ridge regression instead of LASSO, with the knowledge that this is not likely to do better than LASSO given the large number of features"
   ]
  },
  {
   "cell_type": "code",
   "execution_count": 53,
   "metadata": {},
   "outputs": [
    {
     "name": "stdout",
     "output_type": "stream",
     "text": [
      "The R2 value of the linear regression at alpha = 1e-05 is 0.10.\n",
      "The R2 value of the linear regression at alpha = 0.0001 is 0.10.\n",
      "The R2 value of the linear regression at alpha = 0.001 is 0.10.\n",
      "The R2 value of the linear regression at alpha = 0.01 is 0.09.\n",
      "The R2 value of the linear regression at alpha = 0.1 is 0.09.\n",
      "The R2 value of the linear regression at alpha = 1 is 0.09.\n"
     ]
    }
   ],
   "source": [
    "alphas = [1e-5, 1e-4, 1e-3, 1e-2, 1e-1, 1] # regularization term\n",
    "for alpha in alphas:\n",
    "    clf = Ridge(max_iter = 1000, alpha=alpha)\n",
    "    clf.fit(X_train, y_train)\n",
    "    print('The R2 value of the linear regression at alpha = {} is {:.2f}.'.format(alpha, clf.score(X_test, y_test)))"
   ]
  },
  {
   "cell_type": "markdown",
   "metadata": {},
   "source": [
    "It does not appear that Ridge regression achieves a much higher accuracy, so let's move on to fitting a random forest model."
   ]
  },
  {
   "cell_type": "markdown",
   "metadata": {},
   "source": [
    "## Random Forest"
   ]
  },
  {
   "cell_type": "markdown",
   "metadata": {},
   "source": [
    "First let's quickly fit a random forest model to our data"
   ]
  },
  {
   "cell_type": "code",
   "execution_count": 59,
   "metadata": {},
   "outputs": [
    {
     "name": "stderr",
     "output_type": "stream",
     "text": [
      "/Users/stefanheinze/anaconda3/envs/insight/lib/python3.7/site-packages/sklearn/ensemble/forest.py:246: FutureWarning: The default value of n_estimators will change from 10 in version 0.20 to 100 in 0.22.\n",
      "  \"10 in version 0.20 to 100 in 0.22.\", FutureWarning)\n"
     ]
    },
    {
     "data": {
      "text/plain": [
       "RandomForestRegressor(bootstrap=True, criterion='mse', max_depth=None,\n",
       "           max_features='auto', max_leaf_nodes=None,\n",
       "           min_impurity_decrease=0.0, min_impurity_split=None,\n",
       "           min_samples_leaf=1, min_samples_split=2,\n",
       "           min_weight_fraction_leaf=0.0, n_estimators=10, n_jobs=None,\n",
       "           oob_score=False, random_state=None, verbose=0, warm_start=False)"
      ]
     },
     "execution_count": 59,
     "metadata": {},
     "output_type": "execute_result"
    }
   ],
   "source": [
    "clf = RandomForestRegressor()\n",
    "clf.fit(X_train, y_train)"
   ]
  },
  {
   "cell_type": "code",
   "execution_count": 60,
   "metadata": {},
   "outputs": [
    {
     "data": {
      "text/plain": [
       "0.021872929721502232"
      ]
     },
     "execution_count": 60,
     "metadata": {},
     "output_type": "execute_result"
    }
   ],
   "source": [
    "clf.score(X_test, y_test)"
   ]
  },
  {
   "cell_type": "markdown",
   "metadata": {},
   "source": [
    "The model doesn't seem to be doing better than linear regressions, but let's quickly try tuning the hyperparameters"
   ]
  },
  {
   "cell_type": "code",
   "execution_count": 63,
   "metadata": {},
   "outputs": [
    {
     "name": "stdout",
     "output_type": "stream",
     "text": [
      "done\n",
      "done\n",
      "done\n",
      "done\n",
      "done\n",
      "done\n",
      "done\n",
      "done\n",
      "done\n",
      "done\n",
      "done\n",
      "done\n",
      "done\n",
      "done\n",
      "done\n",
      "done\n"
     ]
    }
   ],
   "source": [
    "n_estimators = [10, 25, 50, 100] # number of trees\n",
    "min_samples_split = [2, 10, 25, 50] # minimum number of samples needed to split a node\n",
    "\n",
    "hp_list = []\n",
    "for estimator in n_estimators:\n",
    "    for sample in min_samples_split:\n",
    "        clf = RandomForestRegressor(n_estimators=estimator, min_samples_split=sample)\n",
    "        clf.fit(X_train, y_train)\n",
    "        hp_list.append([estimator, sample, clf.score(X_test, y_test)])\n",
    "        print('done')"
   ]
  },
  {
   "cell_type": "markdown",
   "metadata": {},
   "source": [
    "Which hyperparameters gave us the best model? Let's check hp_list."
   ]
  },
  {
   "cell_type": "code",
   "execution_count": 158,
   "metadata": {},
   "outputs": [
    {
     "data": {
      "text/plain": [
       "[[10, 25, 0.1699884433180615],\n",
       " [10, 10, 0.13691880042434423],\n",
       " [100, 25, 0.1354636145848913],\n",
       " [50, 25, 0.1299819656770259],\n",
       " [25, 25, 0.12254985037407362],\n",
       " [50, 10, 0.1197261668216717],\n",
       " [50, 50, 0.11944430052299226],\n",
       " [100, 10, 0.11943963066226104],\n",
       " [25, 50, 0.11792376259833215],\n",
       " [100, 50, 0.11774991010825253],\n",
       " [10, 50, 0.11746612616737706],\n",
       " [25, 10, 0.10727788000542715],\n",
       " [50, 2, 0.061212190964022306],\n",
       " [100, 2, 0.051428379822678005],\n",
       " [25, 2, 0.030292913760314177],\n",
       " [10, 2, 0.00791305332412684]]"
      ]
     },
     "execution_count": 158,
     "metadata": {},
     "output_type": "execute_result"
    }
   ],
   "source": [
    "sorted(hp_list, key=lambda x: x[2], reverse=True) # largest accuracies shown first"
   ]
  },
  {
   "cell_type": "markdown",
   "metadata": {},
   "source": [
    "The best R^2 score is achieved for n_estimators = 10, min_samples_split = 25, with R^2=0.17. This is much better than linear regression, suggesting that the underlying function may not be linear.\n",
    "\n",
    "Let's refit the best model and see what the top predictors are"
   ]
  },
  {
   "cell_type": "code",
   "execution_count": 348,
   "metadata": {},
   "outputs": [
    {
     "data": {
      "text/plain": [
       "RandomForestRegressor(bootstrap=True, criterion='mse', max_depth=None,\n",
       "           max_features='auto', max_leaf_nodes=None,\n",
       "           min_impurity_decrease=0.0, min_impurity_split=None,\n",
       "           min_samples_leaf=1, min_samples_split=25,\n",
       "           min_weight_fraction_leaf=0.0, n_estimators=10, n_jobs=None,\n",
       "           oob_score=False, random_state=None, verbose=0, warm_start=False)"
      ]
     },
     "execution_count": 348,
     "metadata": {},
     "output_type": "execute_result"
    }
   ],
   "source": [
    "clf = RandomForestRegressor(n_estimators=10, min_samples_split=25)\n",
    "clf.fit(X_train, y_train)"
   ]
  },
  {
   "cell_type": "code",
   "execution_count": 349,
   "metadata": {},
   "outputs": [
    {
     "data": {
      "text/plain": [
       "0.1650801371379308"
      ]
     },
     "execution_count": 349,
     "metadata": {},
     "output_type": "execute_result"
    }
   ],
   "source": [
    "clf.score(X_test, y_test)"
   ]
  },
  {
   "cell_type": "markdown",
   "metadata": {},
   "source": [
    "In the following cell we look at the top predictors of success."
   ]
  },
  {
   "cell_type": "code",
   "execution_count": 350,
   "metadata": {},
   "outputs": [
    {
     "data": {
      "text/plain": [
       "Index(['Year', 'Nintendo', 'Role-Playing', 'Shooter', 'Racing', 'Action',\n",
       "       'PS3', 'Platform', 'GB', 'Sports', 'Wii', 'Sony Computer Entertainment',\n",
       "       'PS4', 'Electronic Arts', 'X360', 'Activision', 'Take-Two Interactive',\n",
       "       'Microsoft Game Studios', 'PS2', 'Simulation'],\n",
       "      dtype='object')"
      ]
     },
     "execution_count": 350,
     "metadata": {},
     "output_type": "execute_result"
    }
   ],
   "source": [
    "top_predictors = (-clf.feature_importances_).argsort()[:20]\n",
    "X_train.iloc[:, top_predictors].columns"
   ]
  },
  {
   "cell_type": "code",
   "execution_count": 162,
   "metadata": {},
   "outputs": [
    {
     "name": "stdout",
     "output_type": "stream",
     "text": [
      "year\n",
      "publisher\n",
      "platform\n",
      "genres\n",
      "genres\n",
      "genres\n",
      "genres\n",
      "genres\n",
      "platform\n",
      "platform\n",
      "genres\n",
      "publisher\n",
      "genres\n",
      "publisher\n",
      "platform\n",
      "publisher\n",
      "platform\n",
      "publisher\n",
      "platform\n",
      "publisher\n"
     ]
    }
   ],
   "source": [
    "for name in X_train.iloc[:, top_predictors].columns:\n",
    "    if name in publishers:\n",
    "        print('publisher')\n",
    "    elif name in genres:\n",
    "        print('genres')\n",
    "    elif name in platforms:\n",
    "        print('platform')\n",
    "    else:\n",
    "        print('year')"
   ]
  },
  {
   "cell_type": "markdown",
   "metadata": {},
   "source": [
    "In contrast to the linear regression, we find that the best predictors of game success is a mix of publishers, year released, genre, and platform, with Year and Publisher Nintendo being the highest indicators of success."
   ]
  },
  {
   "cell_type": "code",
   "execution_count": 351,
   "metadata": {},
   "outputs": [
    {
     "data": {
      "image/png": "[encoded data removed]",
      "text/plain": [
       "<Figure size 504x504 with 1 Axes>"
      ]
     },
     "metadata": {},
     "output_type": "display_data"
    }
   ],
   "source": [
    "sns.set()\n",
    "plt.figure(figsize=(7,7))\n",
    "plt.bar(x=range(20), height=clf.feature_importances_[top_predictors], tick_label=X_train.iloc[:, top_predictors].columns)\n",
    "plt.xticks(rotation=90)\n",
    "plt.title('Feature Importance (Random Forest)');\n",
    "plt.savefig('RF_featureimportance.png', dpi=300, bbox_inches='tight')"
   ]
  },
  {
   "cell_type": "markdown",
   "metadata": {},
   "source": [
    "# Predictors of success in past 10 years"
   ]
  },
  {
   "cell_type": "markdown",
   "metadata": {},
   "source": [
    "In the following cells, we repeat the random forest model but limit ourselves to the data from games in the past 10 years, since most publishers are interested in making a CURRENTLY popular game. The following code repeats what we already did previously, with the added feature of only looking at games made after 2010."
   ]
  },
  {
   "cell_type": "code",
   "execution_count": 327,
   "metadata": {},
   "outputs": [],
   "source": [
    "data_copy = data.dropna(subset=['Year', 'Publisher', 'Platform', 'Genre'], axis=0)\n",
    "data_copy = data_copy[data_copy['Year'] >= 2010] # LIMIT TO PAST 10 YEARS!"
   ]
  },
  {
   "cell_type": "code",
   "execution_count": 328,
   "metadata": {},
   "outputs": [],
   "source": [
    "platforms_encoded = pd.get_dummies(data_copy['Platform'].values)\n",
    "platforms_encoded = platforms_encoded.reset_index().drop(labels='index', axis=1);"
   ]
  },
  {
   "cell_type": "code",
   "execution_count": 329,
   "metadata": {},
   "outputs": [],
   "source": [
    "genres_encoded = pd.get_dummies(data_copy['Genre'].values)\n",
    "genres_encoded = genres_encoded.reset_index().drop(labels='index', axis=1);"
   ]
  },
  {
   "cell_type": "code",
   "execution_count": 330,
   "metadata": {},
   "outputs": [],
   "source": [
    "publishers_encoded = pd.get_dummies(data_copy['Publisher'].values)\n",
    "publishers_encoded = publishers_encoded.reset_index().drop(labels='index', axis=1);"
   ]
  },
  {
   "cell_type": "markdown",
   "metadata": {},
   "source": [
    "We don't want to OHE years, but instead lets \"normalize\" by dividing by the max year in dataframe. This allows us to keep ratios between years."
   ]
  },
  {
   "cell_type": "code",
   "execution_count": 331,
   "metadata": {},
   "outputs": [],
   "source": [
    "year = data_copy['Year']/2020\n",
    "year = year.reset_index().drop(labels='index', axis=1);"
   ]
  },
  {
   "cell_type": "markdown",
   "metadata": {},
   "source": [
    "Now we make the dataframe from which we will train and test our model."
   ]
  },
  {
   "cell_type": "code",
   "execution_count": 332,
   "metadata": {},
   "outputs": [],
   "source": [
    "model_data = pd.concat([platforms_encoded, genres_encoded, publishers_encoded, year], axis=1)\n",
    "target = data_copy['Global_Sales']"
   ]
  },
  {
   "cell_type": "code",
   "execution_count": 333,
   "metadata": {},
   "outputs": [],
   "source": [
    "X_train, X_test, y_train, y_test = train_test_split(model_data, target, test_size=0.30, random_state=42)"
   ]
  },
  {
   "cell_type": "code",
   "execution_count": 334,
   "metadata": {},
   "outputs": [
    {
     "data": {
      "text/plain": [
       "(3593, 289)"
      ]
     },
     "execution_count": 334,
     "metadata": {},
     "output_type": "execute_result"
    }
   ],
   "source": [
    "X_train.shape"
   ]
  },
  {
   "cell_type": "code",
   "execution_count": 335,
   "metadata": {},
   "outputs": [
    {
     "data": {
      "text/plain": [
       "RandomForestRegressor(bootstrap=True, criterion='mse', max_depth=None,\n",
       "           max_features='auto', max_leaf_nodes=None,\n",
       "           min_impurity_decrease=0.0, min_impurity_split=None,\n",
       "           min_samples_leaf=1, min_samples_split=25,\n",
       "           min_weight_fraction_leaf=0.0, n_estimators=10, n_jobs=None,\n",
       "           oob_score=False, random_state=None, verbose=0, warm_start=False)"
      ]
     },
     "execution_count": 335,
     "metadata": {},
     "output_type": "execute_result"
    }
   ],
   "source": [
    "clf = RandomForestRegressor(n_estimators=10, min_samples_split=25)\n",
    "clf.fit(X_train, y_train)"
   ]
  },
  {
   "cell_type": "code",
   "execution_count": 336,
   "metadata": {},
   "outputs": [
    {
     "data": {
      "text/plain": [
       "0.254827258303026"
      ]
     },
     "execution_count": 336,
     "metadata": {},
     "output_type": "execute_result"
    }
   ],
   "source": [
    "clf.score(X_test, y_test)"
   ]
  },
  {
   "cell_type": "code",
   "execution_count": 337,
   "metadata": {},
   "outputs": [
    {
     "data": {
      "text/plain": [
       "Index(['Activision', 'Shooter', 'Action', 'Nintendo', 'Electronic Arts',\n",
       "       'Year', 'Microsoft Game Studios', 'PS3', 'PS4', 'Racing',\n",
       "       'Take-Two Interactive', 'X360', 'Platform',\n",
       "       'Sony Computer Entertainment', 'Ubisoft', 'Fighting', 'Role-Playing',\n",
       "       'Bethesda Softworks', 'Warner Bros. Interactive Entertainment', 'Wii'],\n",
       "      dtype='object')"
      ]
     },
     "execution_count": 337,
     "metadata": {},
     "output_type": "execute_result"
    }
   ],
   "source": [
    "top_predictors = (-clf.feature_importances_).argsort()[:20]\n",
    "X_train.iloc[:, top_predictors].columns"
   ]
  },
  {
   "cell_type": "code",
   "execution_count": 338,
   "metadata": {},
   "outputs": [
    {
     "data": {
      "image/png": "[encoded data removed]",
      "text/plain": [
       "<Figure size 504x504 with 1 Axes>"
      ]
     },
     "metadata": {},
     "output_type": "display_data"
    }
   ],
   "source": [
    "sns.set()\n",
    "plt.figure(figsize=(7,7))\n",
    "plt.bar(x=range(20), height=clf.feature_importances_[top_predictors], tick_label=X_train.iloc[:, top_predictors].columns)\n",
    "plt.xticks(rotation=90)\n",
    "plt.title('Feature Importance (Random Forest)');\n",
    "plt.savefig('RF_featureimportance.png', dpi=300, bbox_inches='tight')"
   ]
  },
  {
   "cell_type": "code",
   "execution_count": null,
   "metadata": {},
   "outputs": [],
   "source": []
  }
 ],
 "metadata": {
  "kernelspec": {
   "display_name": "Python 3",
   "language": "python",
   "name": "python3"
  },
  "language_info": {
   "codemirror_mode": {
    "name": "ipython",
    "version": 3
   },
   "file_extension": ".py",
   "mimetype": "text/x-python",
   "name": "python",
   "nbconvert_exporter": "python",
   "pygments_lexer": "ipython3",
   "version": "3.7.1"
  }
 },
 "nbformat": 4,
 "nbformat_minor": 2
}
